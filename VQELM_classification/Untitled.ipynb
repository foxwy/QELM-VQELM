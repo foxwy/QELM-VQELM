{
 "cells": [
  {
   "cell_type": "code",
   "execution_count": 8,
   "id": "c7147bf8",
   "metadata": {},
   "outputs": [],
   "source": [
    "import qiskit\n",
    "from qiskit import QuantumCircuit, QuantumRegister, ClassicalRegister, execute, Aer\n",
    "from qiskit.visualization import plot_histogram"
   ]
  },
  {
   "cell_type": "code",
   "execution_count": 13,
   "id": "a9b512b2",
   "metadata": {},
   "outputs": [],
   "source": [
    "qr = QuantumRegister(3, 'q')\n",
    "cr = ClassicalRegister(1, 'c')\n",
    "qc = QuantumCircuit(qr, cr)"
   ]
  },
  {
   "cell_type": "code",
   "execution_count": 14,
   "id": "1b1a6c45",
   "metadata": {},
   "outputs": [
    {
     "data": {
      "text/html": [
       "<pre style=\"word-wrap: normal;white-space: pre;background: #fff0;line-height: 1.1;font-family: &quot;Courier New&quot;,Courier,monospace\">     \n",
       "q_0: \n",
       "     \n",
       "q_1: \n",
       "     \n",
       "q_2: \n",
       "     \n",
       "c: 1/\n",
       "     </pre>"
      ],
      "text/plain": [
       "     \n",
       "q_0: \n",
       "     \n",
       "q_1: \n",
       "     \n",
       "q_2: \n",
       "     \n",
       "c: 1/\n",
       "     "
      ]
     },
     "execution_count": 14,
     "metadata": {},
     "output_type": "execute_result"
    }
   ],
   "source": [
    "qc.draw()"
   ]
  },
  {
   "cell_type": "code",
   "execution_count": 15,
   "id": "90e31d5b",
   "metadata": {},
   "outputs": [
    {
     "data": {
      "text/html": [
       "<pre style=\"word-wrap: normal;white-space: pre;background: #fff0;line-height: 1.1;font-family: &quot;Courier New&quot;,Courier,monospace\">     ┌───┐\n",
       "q_0: ┤ H ├\n",
       "     ├───┤\n",
       "q_1: ┤ H ├\n",
       "     └───┘\n",
       "q_2: ─────\n",
       "          \n",
       "c: 1/═════\n",
       "          </pre>"
      ],
      "text/plain": [
       "     ┌───┐\n",
       "q_0: ┤ H ├\n",
       "     ├───┤\n",
       "q_1: ┤ H ├\n",
       "     └───┘\n",
       "q_2: ─────\n",
       "          \n",
       "c: 1/═════\n",
       "          "
      ]
     },
     "execution_count": 15,
     "metadata": {},
     "output_type": "execute_result"
    }
   ],
   "source": [
    "qc.h(0)\n",
    "qc.h(1)\n",
    "qc.draw()"
   ]
  },
  {
   "cell_type": "code",
   "execution_count": 16,
   "id": "375aa722",
   "metadata": {},
   "outputs": [
    {
     "data": {
      "text/html": [
       "<pre style=\"word-wrap: normal;white-space: pre;background: #fff0;line-height: 1.1;font-family: &quot;Courier New&quot;,Courier,monospace\">     ┌───┐┌─┐\n",
       "q_0: ┤ H ├┤M├\n",
       "     ├───┤└╥┘\n",
       "q_1: ┤ H ├─╫─\n",
       "     └───┘ ║ \n",
       "q_2: ──────╫─\n",
       "           ║ \n",
       "c: 1/══════╩═\n",
       "           0 </pre>"
      ],
      "text/plain": [
       "     ┌───┐┌─┐\n",
       "q_0: ┤ H ├┤M├\n",
       "     ├───┤└╥┘\n",
       "q_1: ┤ H ├─╫─\n",
       "     └───┘ ║ \n",
       "q_2: ──────╫─\n",
       "           ║ \n",
       "c: 1/══════╩═\n",
       "           0 "
      ]
     },
     "execution_count": 16,
     "metadata": {},
     "output_type": "execute_result"
    }
   ],
   "source": [
    "qc.measure([0], [0])\n",
    "qc.draw()"
   ]
  },
  {
   "cell_type": "code",
   "execution_count": 17,
   "id": "45cc76ba",
   "metadata": {},
   "outputs": [
    {
     "name": "stdout",
     "output_type": "stream",
     "text": [
      "Result(backend_name='qasm_simulator', backend_version='0.10.4', qobj_id='0be82226-2d8b-4cb8-9209-52cbd7269c23', job_id='61a49366-ef0f-4119-b52b-47876bc86e15', success=True, results=[ExperimentResult(shots=1024, success=True, meas_level=2, data=ExperimentResultData(counts={'0x0': 520, '0x1': 504}), header=QobjExperimentHeader(clbit_labels=[['c', 0]], creg_sizes=[['c', 1]], global_phase=0.0, memory_slots=1, metadata={}, n_qubits=3, name='circuit-178', qreg_sizes=[['q', 3]], qubit_labels=[['q', 0], ['q', 1], ['q', 2]]), status=DONE, seed_simulator=518159560, metadata={'batched_shots_optimization': False, 'method': 'stabilizer', 'active_input_qubits': [0], 'device': 'CPU', 'remapped_qubits': False, 'num_qubits': 1, 'num_clbits': 1, 'input_qubit_map': [[0, 0]], 'measure_sampling': True, 'noise': 'ideal', 'parallel_shots': 1, 'parallel_state_update': 16, 'fusion': {'enabled': False}}, time_taken=0.0008147)], date=2022-06-20T16:26:13.730584, status=COMPLETED, status=QobjHeader(backend_name='qasm_simulator', backend_version='0.10.4'), metadata={'parallel_experiments': 1, 'omp_enabled': True, 'max_memory_mb': 32581, 'max_gpu_memory_mb': 0, 'mpi_rank': 0, 'time_taken_load_qobj': 6.53e-05, 'num_mpi_processes': 1, 'time_taken_execute': 0.0008407, 'time_taken': 0.0009109}, time_taken=0.0009999275207519531)\n",
      "0.0009999275207519531\n",
      "{'0': 520, '1': 504}\n"
     ]
    },
    {
     "data": {
      "image/png": "[encoded data removed]",
      "text/plain": [
       "<Figure size 504x360 with 1 Axes>"
      ]
     },
     "execution_count": 17,
     "metadata": {},
     "output_type": "execute_result"
    }
   ],
   "source": [
    "# Use Aer's qasm_simulator\n",
    "simulator = Aer.get_backend('qasm_simulator')\n",
    "\n",
    "# Execute the circuit on the qasm simulator\n",
    "job = execute(qc, simulator, shots=1024)\n",
    "\n",
    "# Grab results from the job\n",
    "result = job.result()\n",
    "print(result)\n",
    "print(result.time_taken)\n",
    "\n",
    "# Returns counts\n",
    "counts = result.get_counts()\n",
    "print(counts)\n",
    "\n",
    "# Plot a histogram\n",
    "plot_histogram(counts)"
   ]
  },
  {
   "cell_type": "code",
   "execution_count": 10,
   "id": "5a53b608",
   "metadata": {},
   "outputs": [
    {
     "ename": "AttributeError",
     "evalue": "'list' object has no attribute 'values'",
     "output_type": "error",
     "traceback": [
      "\u001b[1;31m---------------------------------------------------------------------------\u001b[0m",
      "\u001b[1;31mAttributeError\u001b[0m                            Traceback (most recent call last)",
      "Input \u001b[1;32mIn [10]\u001b[0m, in \u001b[0;36m<cell line: 14>\u001b[1;34m()\u001b[0m\n\u001b[0;32m     10\u001b[0m     z1_e \u001b[38;5;241m=\u001b[39m z1[\u001b[38;5;124m'\u001b[39m\u001b[38;5;124m0\u001b[39m\u001b[38;5;124m'\u001b[39m] \u001b[38;5;241m-\u001b[39m z1[\u001b[38;5;124m'\u001b[39m\u001b[38;5;124m1\u001b[39m\u001b[38;5;124m'\u001b[39m]\n\u001b[0;32m     12\u001b[0m     \u001b[38;5;28;01mreturn\u001b[39;00m z0_e, z1_e\n\u001b[1;32m---> 14\u001b[0m \u001b[38;5;28mprint\u001b[39m(\u001b[43mget_expection_from_counts\u001b[49m\u001b[43m(\u001b[49m\u001b[43mcounts\u001b[49m\u001b[43m)\u001b[49m)\n",
      "Input \u001b[1;32mIn [10]\u001b[0m, in \u001b[0;36mget_expection_from_counts\u001b[1;34m(counts)\u001b[0m\n\u001b[0;32m      2\u001b[0m z0 \u001b[38;5;241m=\u001b[39m {\u001b[38;5;124m'\u001b[39m\u001b[38;5;124m0\u001b[39m\u001b[38;5;124m'\u001b[39m:\u001b[38;5;241m0\u001b[39m, \u001b[38;5;124m'\u001b[39m\u001b[38;5;124m1\u001b[39m\u001b[38;5;124m'\u001b[39m:\u001b[38;5;241m0\u001b[39m}\n\u001b[0;32m      3\u001b[0m z1 \u001b[38;5;241m=\u001b[39m {\u001b[38;5;124m'\u001b[39m\u001b[38;5;124m0\u001b[39m\u001b[38;5;124m'\u001b[39m:\u001b[38;5;241m0\u001b[39m, \u001b[38;5;124m'\u001b[39m\u001b[38;5;124m1\u001b[39m\u001b[38;5;124m'\u001b[39m:\u001b[38;5;241m0\u001b[39m}\n\u001b[1;32m----> 4\u001b[0m counts_sum \u001b[38;5;241m=\u001b[39m \u001b[38;5;28msum\u001b[39m(\u001b[43mcounts\u001b[49m\u001b[38;5;241;43m.\u001b[39;49m\u001b[43mvalues\u001b[49m())\n\u001b[0;32m      5\u001b[0m \u001b[38;5;28;01mfor\u001b[39;00m s \u001b[38;5;129;01min\u001b[39;00m counts:\n\u001b[0;32m      6\u001b[0m     z0[s[\u001b[38;5;241m1\u001b[39m]] \u001b[38;5;241m+\u001b[39m\u001b[38;5;241m=\u001b[39m counts[s] \u001b[38;5;241m/\u001b[39m counts_sum\n",
      "\u001b[1;31mAttributeError\u001b[0m: 'list' object has no attribute 'values'"
     ]
    }
   ],
   "source": [
    "def get_expection_from_counts(counts):\n",
    "    z0 = {'0':0, '1':0}\n",
    "    z1 = {'0':0, '1':0}\n",
    "    counts_sum = sum(counts.values())\n",
    "    for s in counts:\n",
    "        z0[s[1]] += counts[s] / counts_sum\n",
    "        z1[s[0]] += counts[s] / counts_sum\n",
    "\n",
    "    z0_e = z0['0'] - z0['1']\n",
    "    z1_e = z1['0'] - z1['1']\n",
    "\n",
    "    return z0_e, z1_e\n",
    "\n",
    "print(get_expection_from_counts(counts))"
   ]
  },
  {
   "cell_type": "code",
   "execution_count": 8,
   "id": "0c84ba49",
   "metadata": {},
   "outputs": [
    {
     "data": {
      "text/plain": [
       "1000"
      ]
     },
     "execution_count": 8,
     "metadata": {},
     "output_type": "execute_result"
    }
   ],
   "source": [
    "sum(counts.values())"
   ]
  },
  {
   "cell_type": "code",
   "execution_count": 9,
   "id": "3d6d4284",
   "metadata": {},
   "outputs": [
    {
     "data": {
      "text/html": [
       "<pre style=\"word-wrap: normal;white-space: pre;background: #fff0;line-height: 1.1;font-family: &quot;Courier New&quot;,Courier,monospace\">     ┌──────────┐                    ┌──────────┐                             »\n",
       "q_0: ┤ Ry(θ[0]) ├──■────■─────────■──┤ Ry(θ[4]) ├─────────────────■────────■──»\n",
       "     ├──────────┤┌─┴─┐  │         │  └──────────┘┌──────────┐   ┌─┴─┐      │  »\n",
       "q_1: ┤ Ry(θ[1]) ├┤ X ├──┼────■────┼───────■──────┤ Ry(θ[5]) ├───┤ X ├──────┼──»\n",
       "     ├──────────┤└───┘┌─┴─┐┌─┴─┐  │       │      └──────────┘┌──┴───┴───┐┌─┴─┐»\n",
       "q_2: ┤ Ry(θ[2]) ├─────┤ X ├┤ X ├──┼───────┼───────────■──────┤ Ry(θ[6]) ├┤ X ├»\n",
       "     ├──────────┤     └───┘└───┘┌─┴─┐   ┌─┴─┐       ┌─┴─┐    ├──────────┤└───┘»\n",
       "q_3: ┤ Ry(θ[3]) ├───────────────┤ X ├───┤ X ├───────┤ X ├────┤ Ry(θ[7]) ├─────»\n",
       "     └──────────┘               └───┘   └───┘       └───┘    └──────────┘     »\n",
       "«               ┌──────────┐                         \n",
       "«q_0: ───────■──┤ Ry(θ[8]) ├─────────────────────────\n",
       "«            │  └──────────┘┌──────────┐             \n",
       "«q_1: ──■────┼───────■──────┤ Ry(θ[9]) ├─────────────\n",
       "«     ┌─┴─┐  │       │      └──────────┘┌───────────┐\n",
       "«q_2: ┤ X ├──┼───────┼───────────■──────┤ Ry(θ[10]) ├\n",
       "«     └───┘┌─┴─┐   ┌─┴─┐       ┌─┴─┐    ├───────────┤\n",
       "«q_3: ─────┤ X ├───┤ X ├───────┤ X ├────┤ Ry(θ[11]) ├\n",
       "«          └───┘   └───┘       └───┘    └───────────┘</pre>"
      ],
      "text/plain": [
       "     ┌──────────┐                    ┌──────────┐                             »\n",
       "q_0: ┤ Ry(θ[0]) ├──■────■─────────■──┤ Ry(θ[4]) ├─────────────────■────────■──»\n",
       "     ├──────────┤┌─┴─┐  │         │  └──────────┘┌──────────┐   ┌─┴─┐      │  »\n",
       "q_1: ┤ Ry(θ[1]) ├┤ X ├──┼────■────┼───────■──────┤ Ry(θ[5]) ├───┤ X ├──────┼──»\n",
       "     ├──────────┤└───┘┌─┴─┐┌─┴─┐  │       │      └──────────┘┌──┴───┴───┐┌─┴─┐»\n",
       "q_2: ┤ Ry(θ[2]) ├─────┤ X ├┤ X ├──┼───────┼───────────■──────┤ Ry(θ[6]) ├┤ X ├»\n",
       "     ├──────────┤     └───┘└───┘┌─┴─┐   ┌─┴─┐       ┌─┴─┐    ├──────────┤└───┘»\n",
       "q_3: ┤ Ry(θ[3]) ├───────────────┤ X ├───┤ X ├───────┤ X ├────┤ Ry(θ[7]) ├─────»\n",
       "     └──────────┘               └───┘   └───┘       └───┘    └──────────┘     »\n",
       "«               ┌──────────┐                         \n",
       "«q_0: ───────■──┤ Ry(θ[8]) ├─────────────────────────\n",
       "«            │  └──────────┘┌──────────┐             \n",
       "«q_1: ──■────┼───────■──────┤ Ry(θ[9]) ├─────────────\n",
       "«     ┌─┴─┐  │       │      └──────────┘┌───────────┐\n",
       "«q_2: ┤ X ├──┼───────┼───────────■──────┤ Ry(θ[10]) ├\n",
       "«     └───┘┌─┴─┐   ┌─┴─┐       ┌─┴─┐    ├───────────┤\n",
       "«q_3: ─────┤ X ├───┤ X ├───────┤ X ├────┤ Ry(θ[11]) ├\n",
       "«          └───┘   └───┘       └───┘    └───────────┘"
      ]
     },
     "execution_count": 9,
     "metadata": {},
     "output_type": "execute_result"
    }
   ],
   "source": [
    "from qiskit.circuit.library import RealAmplitudes\n",
    "ansatz = RealAmplitudes(4, reps=2)\n",
    "ansatz.decompose().draw()"
   ]
  },
  {
   "cell_type": "code",
   "execution_count": 10,
   "id": "35286c15",
   "metadata": {},
   "outputs": [
    {
     "data": {
      "text/html": [
       "<pre style=\"word-wrap: normal;white-space: pre;background: #fff0;line-height: 1.1;font-family: &quot;Courier New&quot;,Courier,monospace\">     ┌──────────┐                              ┌──────────┐                 »\n",
       "q_0: ┤ Ry(θ[0]) ├──■────■─────────■─────────■──┤ Ry(θ[5]) ├─────────────────»\n",
       "     ├──────────┤┌─┴─┐  │         │         │  └──────────┘     ┌──────────┐»\n",
       "q_1: ┤ Ry(θ[1]) ├┤ X ├──┼────■────┼────■────┼────────────────■──┤ Ry(θ[6]) ├»\n",
       "     ├──────────┤└───┘┌─┴─┐┌─┴─┐  │    │    │                │  └──────────┘»\n",
       "q_2: ┤ Ry(θ[2]) ├─────┤ X ├┤ X ├──┼────┼────┼───────■────────┼───────■──────»\n",
       "     ├──────────┤     └───┘└───┘┌─┴─┐┌─┴─┐  │     ┌─┴─┐      │       │      »\n",
       "q_3: ┤ Ry(θ[3]) ├───────────────┤ X ├┤ X ├──┼─────┤ X ├──────┼───────┼──────»\n",
       "     ├──────────┤               └───┘└───┘┌─┴─┐   └───┘    ┌─┴─┐   ┌─┴─┐    »\n",
       "q_4: ┤ Ry(θ[4]) ├─────────────────────────┤ X ├────────────┤ X ├───┤ X ├────»\n",
       "     └──────────┘                         └───┘            └───┘   └───┘    »\n",
       "«                                                 ┌───────────┐     »\n",
       "«q_0: ─────■───────────■─────────────■─────────■──┤ Ry(θ[10]) ├─────»\n",
       "«        ┌─┴─┐         │             │         │  └───────────┘     »\n",
       "«q_1: ───┤ X ├─────────┼────────■────┼────■────┼─────────────────■──»\n",
       "«     ┌──┴───┴───┐   ┌─┴─┐    ┌─┴─┐  │    │    │                 │  »\n",
       "«q_2: ┤ Ry(θ[7]) ├───┤ X ├────┤ X ├──┼────┼────┼────────■────────┼──»\n",
       "«     └──────────┘┌──┴───┴───┐└───┘┌─┴─┐┌─┴─┐  │      ┌─┴─┐      │  »\n",
       "«q_3: ─────■──────┤ Ry(θ[8]) ├─────┤ X ├┤ X ├──┼──────┤ X ├──────┼──»\n",
       "«        ┌─┴─┐    ├──────────┤     └───┘└───┘┌─┴─┐    └───┘    ┌─┴─┐»\n",
       "«q_4: ───┤ X ├────┤ Ry(θ[9]) ├───────────────┤ X ├─────────────┤ X ├»\n",
       "«        └───┘    └──────────┘               └───┘             └───┘»\n",
       "«                                            \n",
       "«q_0: ───────────────────────────────────────\n",
       "«     ┌───────────┐                          \n",
       "«q_1: ┤ Ry(θ[11]) ├──────────────────────────\n",
       "«     └───────────┘┌───────────┐             \n",
       "«q_2: ──────■──────┤ Ry(θ[12]) ├─────────────\n",
       "«           │      └───────────┘┌───────────┐\n",
       "«q_3: ──────┼────────────■──────┤ Ry(θ[13]) ├\n",
       "«         ┌─┴─┐        ┌─┴─┐    ├───────────┤\n",
       "«q_4: ────┤ X ├────────┤ X ├────┤ Ry(θ[14]) ├\n",
       "«         └───┘        └───┘    └───────────┘</pre>"
      ],
      "text/plain": [
       "     ┌──────────┐                              ┌──────────┐                 »\n",
       "q_0: ┤ Ry(θ[0]) ├──■────■─────────■─────────■──┤ Ry(θ[5]) ├─────────────────»\n",
       "     ├──────────┤┌─┴─┐  │         │         │  └──────────┘     ┌──────────┐»\n",
       "q_1: ┤ Ry(θ[1]) ├┤ X ├──┼────■────┼────■────┼────────────────■──┤ Ry(θ[6]) ├»\n",
       "     ├──────────┤└───┘┌─┴─┐┌─┴─┐  │    │    │                │  └──────────┘»\n",
       "q_2: ┤ Ry(θ[2]) ├─────┤ X ├┤ X ├──┼────┼────┼───────■────────┼───────■──────»\n",
       "     ├──────────┤     └───┘└───┘┌─┴─┐┌─┴─┐  │     ┌─┴─┐      │       │      »\n",
       "q_3: ┤ Ry(θ[3]) ├───────────────┤ X ├┤ X ├──┼─────┤ X ├──────┼───────┼──────»\n",
       "     ├──────────┤               └───┘└───┘┌─┴─┐   └───┘    ┌─┴─┐   ┌─┴─┐    »\n",
       "q_4: ┤ Ry(θ[4]) ├─────────────────────────┤ X ├────────────┤ X ├───┤ X ├────»\n",
       "     └──────────┘                         └───┘            └───┘   └───┘    »\n",
       "«                                                 ┌───────────┐     »\n",
       "«q_0: ─────■───────────■─────────────■─────────■──┤ Ry(θ[10]) ├─────»\n",
       "«        ┌─┴─┐         │             │         │  └───────────┘     »\n",
       "«q_1: ───┤ X ├─────────┼────────■────┼────■────┼─────────────────■──»\n",
       "«     ┌──┴───┴───┐   ┌─┴─┐    ┌─┴─┐  │    │    │                 │  »\n",
       "«q_2: ┤ Ry(θ[7]) ├───┤ X ├────┤ X ├──┼────┼────┼────────■────────┼──»\n",
       "«     └──────────┘┌──┴───┴───┐└───┘┌─┴─┐┌─┴─┐  │      ┌─┴─┐      │  »\n",
       "«q_3: ─────■──────┤ Ry(θ[8]) ├─────┤ X ├┤ X ├──┼──────┤ X ├──────┼──»\n",
       "«        ┌─┴─┐    ├──────────┤     └───┘└───┘┌─┴─┐    └───┘    ┌─┴─┐»\n",
       "«q_4: ───┤ X ├────┤ Ry(θ[9]) ├───────────────┤ X ├─────────────┤ X ├»\n",
       "«        └───┘    └──────────┘               └───┘             └───┘»\n",
       "«                                            \n",
       "«q_0: ───────────────────────────────────────\n",
       "«     ┌───────────┐                          \n",
       "«q_1: ┤ Ry(θ[11]) ├──────────────────────────\n",
       "«     └───────────┘┌───────────┐             \n",
       "«q_2: ──────■──────┤ Ry(θ[12]) ├─────────────\n",
       "«           │      └───────────┘┌───────────┐\n",
       "«q_3: ──────┼────────────■──────┤ Ry(θ[13]) ├\n",
       "«         ┌─┴─┐        ┌─┴─┐    ├───────────┤\n",
       "«q_4: ────┤ X ├────────┤ X ├────┤ Ry(θ[14]) ├\n",
       "«         └───┘        └───┘    └───────────┘"
      ]
     },
     "execution_count": 10,
     "metadata": {},
     "output_type": "execute_result"
    }
   ],
   "source": [
    "ansatz = RealAmplitudes(5, reps=2)\n",
    "ansatz.decompose().draw()"
   ]
  },
  {
   "cell_type": "code",
   "execution_count": 11,
   "id": "6b368790",
   "metadata": {},
   "outputs": [
    {
     "name": "stderr",
     "output_type": "stream",
     "text": [
      "configrc.store_credentials:WARNING:2022-06-15 17:28:33,755: Credentials already present. Set overwrite=True to overwrite.\n"
     ]
    }
   ],
   "source": [
    "from qiskit import IBMQ\n",
    "\n",
    "\n",
    "IBMQ.save_account('c3b52ec58a6bf8edf796502a6075afc3dcf7636cd5ecff99fea0b145371cc88c93ff550e7f81c65457b168ac7b06c5ae1024b45c46d88d61964a9ad35c97b18d')"
   ]
  },
  {
   "cell_type": "code",
   "execution_count": 12,
   "id": "b117141f",
   "metadata": {},
   "outputs": [
    {
     "data": {
      "text/plain": [
       "[<IBMQSimulator('ibmq_qasm_simulator') from IBMQ(hub='ibm-q', group='open', project='main')>,\n",
       " <IBMQBackend('ibmq_armonk') from IBMQ(hub='ibm-q', group='open', project='main')>,\n",
       " <IBMQBackend('ibmq_santiago') from IBMQ(hub='ibm-q', group='open', project='main')>,\n",
       " <IBMQBackend('ibmq_bogota') from IBMQ(hub='ibm-q', group='open', project='main')>,\n",
       " <IBMQBackend('ibmq_lima') from IBMQ(hub='ibm-q', group='open', project='main')>,\n",
       " <IBMQBackend('ibmq_belem') from IBMQ(hub='ibm-q', group='open', project='main')>,\n",
       " <IBMQBackend('ibmq_quito') from IBMQ(hub='ibm-q', group='open', project='main')>,\n",
       " <IBMQSimulator('simulator_statevector') from IBMQ(hub='ibm-q', group='open', project='main')>,\n",
       " <IBMQSimulator('simulator_mps') from IBMQ(hub='ibm-q', group='open', project='main')>,\n",
       " <IBMQSimulator('simulator_extended_stabilizer') from IBMQ(hub='ibm-q', group='open', project='main')>,\n",
       " <IBMQSimulator('simulator_stabilizer') from IBMQ(hub='ibm-q', group='open', project='main')>,\n",
       " <IBMQBackend('ibmq_manila') from IBMQ(hub='ibm-q', group='open', project='main')>]"
      ]
     },
     "execution_count": 12,
     "metadata": {},
     "output_type": "execute_result"
    }
   ],
   "source": [
    "IBMQ.load_account() # Load account from disk\n",
    "provider = IBMQ.get_provider(hub='ibm-q')\n",
    "provider.backends()"
   ]
  },
  {
   "cell_type": "code",
   "execution_count": 25,
   "id": "a0b1bf5a",
   "metadata": {},
   "outputs": [
    {
     "name": "stdout",
     "output_type": "stream",
     "text": [
      "43.96418559999984\n",
      "Job Status: job has successfully run\n"
     ]
    }
   ],
   "source": [
    "from timeit import default_timer as timer\n",
    "from qiskit.tools.monitor import job_monitor\n",
    "#IBMQ.load_account()\n",
    "provider = IBMQ.get_provider(group='open')\n",
    "bkend = provider.get_backend('ibmq_qasm_simulator') #'ibmq_qasm_simulator'\n",
    "time1 = timer()\n",
    "job = execute(qc, bkend, shots=1024)\n",
    "time2 = timer()\n",
    "print(time2-time1)\n",
    "job_monitor(job)"
   ]
  },
  {
   "cell_type": "code",
   "execution_count": 18,
   "id": "02118b8f",
   "metadata": {},
   "outputs": [
    {
     "name": "stdout",
     "output_type": "stream",
     "text": [
      "Result(backend_name='ibmq_qasm_simulator', backend_version='0.10.4', qobj_id='dd35b60e-4d9a-4b2e-a63f-349c9db3e649', job_id='62a9a72f9b5e97bb58fc3bfa', success=True, results=[ExperimentResult(shots=1024, success=True, meas_level=2, data=ExperimentResultData(counts={'0x0': 240, '0x1': 270, '0x2': 260, '0x3': 254}), header=QobjExperimentHeader(clbit_labels=[['c', 0], ['c', 1]], creg_sizes=[['c', 2]], global_phase=0.0, memory_slots=2, metadata={}, n_qubits=3, name='circuit-0', qreg_sizes=[['q', 3]], qubit_labels=[['q', 0], ['q', 1], ['q', 2]]), status=DONE, metadata={'active_input_qubits': [0, 1], 'batched_shots_optimization': False, 'device': 'CPU', 'fusion': {'enabled': False}, 'input_qubit_map': [[1, 1], [0, 0]], 'measure_sampling': True, 'method': 'stabilizer', 'noise': 'ideal', 'num_clbits': 2, 'num_qubits': 2, 'parallel_shots': 1, 'parallel_state_update': 16, 'remapped_qubits': False}, seed_simulator=2079632637, time_taken=0.001919415)], date=2022-06-15 17:32:35.312261+08:00, status=COMPLETED, status=QobjHeader(backend_name='ibmq_qasm_simulator', backend_version='0.1.547'), metadata={'max_gpu_memory_mb': 0, 'max_memory_mb': 386782, 'mpi_rank': 0, 'num_mpi_processes': 1, 'omp_enabled': True, 'parallel_experiments': 1, 'time_taken': 0.002088474, 'time_taken_execute': 0.001964726, 'time_taken_load_qobj': 0.000112079}, time_taken=0.002088474, client_version={'qiskit': '0.36.2'})\n"
     ]
    },
    {
     "data": {
      "image/png": "[encoded data removed]",
      "text/plain": [
       "<Figure size 504x360 with 1 Axes>"
      ]
     },
     "execution_count": 18,
     "metadata": {},
     "output_type": "execute_result"
    }
   ],
   "source": [
    "result = job.result()\n",
    "print(result)\n",
    "counts = result.get_counts()\n",
    "plot_histogram(counts)"
   ]
  },
  {
   "cell_type": "code",
   "execution_count": 19,
   "id": "9c700e7e",
   "metadata": {},
   "outputs": [
    {
     "name": "stdout",
     "output_type": "stream",
     "text": [
      "0.002088474\n"
     ]
    }
   ],
   "source": [
    "print(result.time_taken)"
   ]
  },
  {
   "cell_type": "code",
   "execution_count": 20,
   "id": "8c84c6f7",
   "metadata": {},
   "outputs": [
    {
     "data": {
      "text/plain": [
       "<IBMQBackend('ibmq_quito') from IBMQ(hub='ibm-q', group='open', project='main')>"
      ]
     },
     "execution_count": 20,
     "metadata": {},
     "output_type": "execute_result"
    }
   ],
   "source": [
    "from qiskit.providers.ibmq import least_busy\n",
    "\n",
    "small_devices = provider.backends(filters=lambda x: x.configuration().n_qubits == 5\n",
    "                                   and not x.configuration().simulator)\n",
    "least_busy(small_devices)"
   ]
  },
  {
   "cell_type": "code",
   "execution_count": 21,
   "id": "57b2a7d7",
   "metadata": {
    "scrolled": true
   },
   "outputs": [
    {
     "name": "stdout",
     "output_type": "stream",
     "text": [
      "Job Status: job has successfully run\n",
      "Result(backend_name='ibmq_quito', backend_version='1.1.30', qobj_id='f8d2d481-cb50-4161-acf7-ac306564334d', job_id='62a9ae559b38af5c60425a61', success=True, results=[ExperimentResult(shots=1024, success=True, meas_level=2, data=ExperimentResultData(counts={'0x0': 258, '0x1': 279, '0x2': 239, '0x3': 248}), header=QobjExperimentHeader(qubit_labels=[['q', 0], ['q', 1], ['q', 2], ['q', 3], ['q', 4]], n_qubits=5, qreg_sizes=[['q', 5]], clbit_labels=[['c', 0], ['c', 1]], memory_slots=2, creg_sizes=[['c', 2]], name='circuit-0', global_phase=1.5707963267948966, metadata={}))], date=2022-06-15 18:10:56+08:00, status=Successful completion, status=QobjHeader(backend_name='ibmq_quito', backend_version='1.1.30'), execution_id='708aad52-ec93-11ec-aabe-b02628f7f59e', time_taken=2.671682357788086, error=None, client_version={'qiskit': '0.36.2'})\n"
     ]
    },
    {
     "data": {
      "image/png": "[encoded data removed]",
      "text/plain": [
       "<Figure size 504x360 with 1 Axes>"
      ]
     },
     "execution_count": 21,
     "metadata": {},
     "output_type": "execute_result"
    }
   ],
   "source": [
    "bkend = least_busy(small_devices)\n",
    "job = execute(qc, bkend, shots=1024)\n",
    "job_monitor(job)\n",
    "\n",
    "result = job.result()\n",
    "print(result)\n",
    "counts = result.get_counts()\n",
    "plot_histogram(counts)"
   ]
  },
  {
   "cell_type": "code",
   "execution_count": 26,
   "id": "b959e61e",
   "metadata": {},
   "outputs": [
    {
     "name": "stdout",
     "output_type": "stream",
     "text": [
      "<qiskit.providers.ibmq.managed.managedresults.ManagedResults object at 0x000001DE77E33C70>\n"
     ]
    }
   ],
   "source": [
    "from qiskit.providers.ibmq.managed import IBMQJobManager\n",
    "job_manager = IBMQJobManager()\n",
    "job_set_multiple = job_manager.run([qc]*2, backend=bkend, max_experiments_per_job=2)\n",
    "results = job_set_multiple.results()\n",
    "print(results.combine_results())"
   ]
  },
  {
   "cell_type": "code",
   "execution_count": 36,
   "id": "d5a726b6",
   "metadata": {},
   "outputs": [
    {
     "name": "stdout",
     "output_type": "stream",
     "text": [
      "0.014425872\n"
     ]
    }
   ],
   "source": [
    "print(results.combine_results().time_taken)"
   ]
  },
  {
   "cell_type": "code",
   "execution_count": null,
   "id": "89ecae3a",
   "metadata": {},
   "outputs": [],
   "source": []
  }
 ],
 "metadata": {
  "kernelspec": {
   "display_name": "Python 3 (ipykernel)",
   "language": "python",
   "name": "python3"
  },
  "language_info": {
   "codemirror_mode": {
    "name": "ipython",
    "version": 3
   },
   "file_extension": ".py",
   "mimetype": "text/x-python",
   "name": "python",
   "nbconvert_exporter": "python",
   "pygments_lexer": "ipython3",
   "version": "3.9.12"
  }
 },
 "nbformat": 4,
 "nbformat_minor": 5
}
